{
 "cells": [
  {
   "cell_type": "markdown",
   "metadata": {},
   "source": [
    "# ENDG 310\n",
    "## Lab 4 - Sockets and the Web\n",
    "\n",
    "Deadline: Friday, December 1st at 5pm\n",
    "\n",
    "You may work with a partner on this lab\n",
    "\n",
    "In this lab, you will (1) create a basic web server using Python that will print `Hello World` in your browser and (2) exchange information between two python programs running on your computer using sockets.  \n",
    "\n",
    "### Part 1 - Basic Web Server\n",
    "In a file named `web_server.py`, write a program that will act as a basic web server using `sockets` that is able to accept `GET` requests and properly send the requested file to the requester.\n",
    "\n",
    "*Instructions*\n",
    "- Your server should listen on port 9999 for `GET` requests.  You may ignore `PUT` requests or respond with a `501 Not Implemented` ([details](https://developer.mozilla.org/en-US/docs/Web/HTTP/Status/501))\n",
    "- In your browser:\n",
    "  - If you visit `http://127.0.0.1:9999/`, your server should respond with the following: `ENDG 310 PYTHON WEB SERVER.  Authors: [your names], Date: [today's date]`\n",
    "  - If you visit `http://127.0.0.1:9999/index.html`, your server should respond with the contents of index.html"
   ]
  },
  {
   "cell_type": "code",
   "execution_count": null,
   "metadata": {
    "vscode": {
     "languageId": "plaintext"
    }
   },
   "outputs": [],
   "source": []
  },
  {
   "cell_type": "markdown",
   "metadata": {},
   "source": [
    "### Part 2 - Socket Communication\n",
    "Using [this tutorial](https://www.datacamp.com/tutorial/a-complete-guide-to-socket-programming-in-python) as a guide, create two programs, `client.py` and `server.py` and send text between them.  You do not need to create a multithreaded server (ignore those sections), but you should have basic error handling. \n",
    "\n",
    "If you need additional resources, the following may be useful:\n",
    "- https://docs.python.org/3/howto/sockets.html\n",
    "- https://www.digitalocean.com/community/tutorials/python-socket-programming-server-client\n"
   ]
  },
  {
   "cell_type": "code",
   "execution_count": null,
   "metadata": {},
   "outputs": [],
   "source": []
  }
 ],
 "metadata": {
  "language_info": {
   "name": "python"
  },
  "orig_nbformat": 4
 },
 "nbformat": 4,
 "nbformat_minor": 2
}
